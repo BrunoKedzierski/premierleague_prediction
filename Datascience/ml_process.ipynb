{
 "cells": [
  {
   "cell_type": "code",
   "execution_count": 24,
   "metadata": {},
   "outputs": [],
   "source": [
    "import pandas as pd\n",
    "import numpy as np\n",
    "import seaborn as sns\n",
    "import matplotlib.pyplot as plt\n",
    "from sklearn.preprocessing import OneHotEncoder\n",
    "from sklearn.model_selection import train_test_split\n",
    "from sklearn.tree import DecisionTreeClassifier\n",
    "import sklearn\n",
    "from sklearn.ensemble import RandomForestClassifier\n",
    "import pickle\n",
    "from imblearn.over_sampling import  SMOTE\n"
   ]
  },
  {
   "cell_type": "markdown",
   "metadata": {},
   "source": [
    "Ładowanie danych"
   ]
  },
  {
   "cell_type": "code",
   "execution_count": 53,
   "metadata": {},
   "outputs": [],
   "source": [
    "data = pd.read_csv('../Data/epl_dataset.csv')"
   ]
  },
  {
   "cell_type": "code",
   "execution_count": 54,
   "metadata": {},
   "outputs": [
    {
     "data": {
      "text/plain": [
       "array(['Crystal Palace', 'Fulham', 'Bournemouth', 'Leeds', 'Newcastle',\n",
       "       'Tottenham', 'Everton', 'Leicester', 'Man United', 'West Ham',\n",
       "       'Aston Villa', 'Arsenal', 'Brighton', 'Man City', 'Southampton',\n",
       "       'Wolves', 'Brentford', \"Nott'm Forest\", 'Chelsea', 'Liverpool'],\n",
       "      dtype=object)"
      ]
     },
     "execution_count": 54,
     "metadata": {},
     "output_type": "execute_result"
    }
   ],
   "source": [
    "data['HomeTeam'].unique()"
   ]
  },
  {
   "cell_type": "code",
   "execution_count": 26,
   "metadata": {},
   "outputs": [
    {
     "data": {
      "text/html": [
       "<div>\n",
       "<style scoped>\n",
       "    .dataframe tbody tr th:only-of-type {\n",
       "        vertical-align: middle;\n",
       "    }\n",
       "\n",
       "    .dataframe tbody tr th {\n",
       "        vertical-align: top;\n",
       "    }\n",
       "\n",
       "    .dataframe thead th {\n",
       "        text-align: right;\n",
       "    }\n",
       "</style>\n",
       "<table border=\"1\" class=\"dataframe\">\n",
       "  <thead>\n",
       "    <tr style=\"text-align: right;\">\n",
       "      <th></th>\n",
       "      <th>Div</th>\n",
       "      <th>Date</th>\n",
       "      <th>Time</th>\n",
       "      <th>HomeTeam</th>\n",
       "      <th>AwayTeam</th>\n",
       "      <th>H_Ranking_Prior_Season</th>\n",
       "      <th>A_Ranking_Prior_Season</th>\n",
       "      <th>FTHG</th>\n",
       "      <th>FTAG</th>\n",
       "      <th>FTR</th>\n",
       "      <th>...</th>\n",
       "      <th>AvgC&lt;2.5</th>\n",
       "      <th>AHCh</th>\n",
       "      <th>B365CAHH</th>\n",
       "      <th>B365CAHA</th>\n",
       "      <th>PCAHH</th>\n",
       "      <th>PCAHA</th>\n",
       "      <th>MaxCAHH</th>\n",
       "      <th>MaxCAHA</th>\n",
       "      <th>AvgCAHH</th>\n",
       "      <th>AvgCAHA</th>\n",
       "    </tr>\n",
       "  </thead>\n",
       "  <tbody>\n",
       "    <tr>\n",
       "      <th>0</th>\n",
       "      <td>E0</td>\n",
       "      <td>05/08/2022</td>\n",
       "      <td>20:00</td>\n",
       "      <td>Crystal Palace</td>\n",
       "      <td>Arsenal</td>\n",
       "      <td>12</td>\n",
       "      <td>5</td>\n",
       "      <td>0</td>\n",
       "      <td>2</td>\n",
       "      <td>A</td>\n",
       "      <td>...</td>\n",
       "      <td>1.76</td>\n",
       "      <td>0.50</td>\n",
       "      <td>2.09</td>\n",
       "      <td>1.84</td>\n",
       "      <td>2.04</td>\n",
       "      <td>1.88</td>\n",
       "      <td>2.09</td>\n",
       "      <td>1.88</td>\n",
       "      <td>2.03</td>\n",
       "      <td>1.85</td>\n",
       "    </tr>\n",
       "    <tr>\n",
       "      <th>1</th>\n",
       "      <td>E0</td>\n",
       "      <td>06/08/2022</td>\n",
       "      <td>12:30</td>\n",
       "      <td>Fulham</td>\n",
       "      <td>Liverpool</td>\n",
       "      <td>18</td>\n",
       "      <td>2</td>\n",
       "      <td>2</td>\n",
       "      <td>2</td>\n",
       "      <td>D</td>\n",
       "      <td>...</td>\n",
       "      <td>2.73</td>\n",
       "      <td>1.75</td>\n",
       "      <td>1.90</td>\n",
       "      <td>2.03</td>\n",
       "      <td>1.91</td>\n",
       "      <td>2.02</td>\n",
       "      <td>2.01</td>\n",
       "      <td>2.06</td>\n",
       "      <td>1.89</td>\n",
       "      <td>1.99</td>\n",
       "    </tr>\n",
       "    <tr>\n",
       "      <th>2</th>\n",
       "      <td>E0</td>\n",
       "      <td>06/08/2022</td>\n",
       "      <td>15:00</td>\n",
       "      <td>Bournemouth</td>\n",
       "      <td>Aston Villa</td>\n",
       "      <td>18</td>\n",
       "      <td>14</td>\n",
       "      <td>2</td>\n",
       "      <td>0</td>\n",
       "      <td>H</td>\n",
       "      <td>...</td>\n",
       "      <td>1.76</td>\n",
       "      <td>0.50</td>\n",
       "      <td>1.93</td>\n",
       "      <td>2.00</td>\n",
       "      <td>1.93</td>\n",
       "      <td>2.00</td>\n",
       "      <td>1.94</td>\n",
       "      <td>2.04</td>\n",
       "      <td>1.88</td>\n",
       "      <td>2.00</td>\n",
       "    </tr>\n",
       "    <tr>\n",
       "      <th>3</th>\n",
       "      <td>E0</td>\n",
       "      <td>06/08/2022</td>\n",
       "      <td>15:00</td>\n",
       "      <td>Leeds</td>\n",
       "      <td>Wolves</td>\n",
       "      <td>17</td>\n",
       "      <td>10</td>\n",
       "      <td>2</td>\n",
       "      <td>1</td>\n",
       "      <td>H</td>\n",
       "      <td>...</td>\n",
       "      <td>1.87</td>\n",
       "      <td>-0.25</td>\n",
       "      <td>2.08</td>\n",
       "      <td>1.85</td>\n",
       "      <td>2.10</td>\n",
       "      <td>1.84</td>\n",
       "      <td>2.14</td>\n",
       "      <td>1.87</td>\n",
       "      <td>2.08</td>\n",
       "      <td>1.81</td>\n",
       "    </tr>\n",
       "    <tr>\n",
       "      <th>4</th>\n",
       "      <td>E0</td>\n",
       "      <td>06/08/2022</td>\n",
       "      <td>15:00</td>\n",
       "      <td>Newcastle</td>\n",
       "      <td>Nott'm Forest</td>\n",
       "      <td>11</td>\n",
       "      <td>18</td>\n",
       "      <td>2</td>\n",
       "      <td>0</td>\n",
       "      <td>H</td>\n",
       "      <td>...</td>\n",
       "      <td>1.89</td>\n",
       "      <td>-1.00</td>\n",
       "      <td>1.97</td>\n",
       "      <td>1.96</td>\n",
       "      <td>1.99</td>\n",
       "      <td>1.93</td>\n",
       "      <td>2.19</td>\n",
       "      <td>1.97</td>\n",
       "      <td>2.03</td>\n",
       "      <td>1.86</td>\n",
       "    </tr>\n",
       "  </tbody>\n",
       "</table>\n",
       "<p>5 rows × 108 columns</p>\n",
       "</div>"
      ],
      "text/plain": [
       "  Div        Date   Time        HomeTeam       AwayTeam  \\\n",
       "0  E0  05/08/2022  20:00  Crystal Palace        Arsenal   \n",
       "1  E0  06/08/2022  12:30          Fulham      Liverpool   \n",
       "2  E0  06/08/2022  15:00     Bournemouth    Aston Villa   \n",
       "3  E0  06/08/2022  15:00           Leeds         Wolves   \n",
       "4  E0  06/08/2022  15:00       Newcastle  Nott'm Forest   \n",
       "\n",
       "   H_Ranking_Prior_Season  A_Ranking_Prior_Season  FTHG  FTAG FTR  ...  \\\n",
       "0                      12                       5     0     2   A  ...   \n",
       "1                      18                       2     2     2   D  ...   \n",
       "2                      18                      14     2     0   H  ...   \n",
       "3                      17                      10     2     1   H  ...   \n",
       "4                      11                      18     2     0   H  ...   \n",
       "\n",
       "   AvgC<2.5  AHCh B365CAHH B365CAHA  PCAHH  PCAHA  MaxCAHH  MaxCAHA  AvgCAHH  \\\n",
       "0      1.76  0.50     2.09     1.84   2.04   1.88     2.09     1.88     2.03   \n",
       "1      2.73  1.75     1.90     2.03   1.91   2.02     2.01     2.06     1.89   \n",
       "2      1.76  0.50     1.93     2.00   1.93   2.00     1.94     2.04     1.88   \n",
       "3      1.87 -0.25     2.08     1.85   2.10   1.84     2.14     1.87     2.08   \n",
       "4      1.89 -1.00     1.97     1.96   1.99   1.93     2.19     1.97     2.03   \n",
       "\n",
       "   AvgCAHA  \n",
       "0     1.85  \n",
       "1     1.99  \n",
       "2     2.00  \n",
       "3     1.81  \n",
       "4     1.86  \n",
       "\n",
       "[5 rows x 108 columns]"
      ]
     },
     "execution_count": 26,
     "metadata": {},
     "output_type": "execute_result"
    }
   ],
   "source": [
    "data.head()"
   ]
  },
  {
   "cell_type": "code",
   "execution_count": 27,
   "metadata": {},
   "outputs": [
    {
     "name": "stdout",
     "output_type": "stream",
     "text": [
      "P>2.5     0.263158\n",
      "P<2.5     0.263158\n",
      "PC>2.5    0.263158\n",
      "PC<2.5    0.263158\n",
      "dtype: float64\n"
     ]
    }
   ],
   "source": [
    "null_percentages = data.isnull().mean() * 100\n",
    "print(null_percentages[null_percentages > 0])"
   ]
  },
  {
   "cell_type": "code",
   "execution_count": 28,
   "metadata": {},
   "outputs": [],
   "source": [
    "data = data[['Date','Time','HomeTeam','AwayTeam','H_Ranking_Prior_Season','A_Ranking_Prior_Season','FTHG','FTAG','FTR','HTHG','HTAG','HTR','HS','AS','Referee','B365H','B365D','B365A']]"
   ]
  },
  {
   "cell_type": "markdown",
   "metadata": {},
   "source": [
    "Opis Kolumn\n",
    "1.  Date = match date\n",
    "2.  Time = time of kickoff\n",
    "3.  HomeTeam\n",
    "4.  AwayTeam\n",
    "5.  H_Ranking_Prior_Season = home ranking previous season\n",
    "6.  A_Ranking_Prior_Season = away ranking previous season\n",
    "7.  FTHG = Full Time Home Team Goals\n",
    "8.  FTAG = Full Time Away Team Goals\n",
    "9.  FTR = Full Time Result (H=Home Win, D=Draw, A=Away Win)\n",
    "10. HTHG = Half Time Home Team Goals\n",
    "11. HTAG = Half Time Away Team Goals\n",
    "12. HTR = Half Time Result (H=Home Win, D=Draw, A=Away Win)\n",
    "13. HS = Home Team Shots\n",
    "14. AS = Away Team Shots\n",
    "15. Referee = Match Referee\n",
    "16. B365H = Bet365 home win odds\n",
    "17. B365D = Bet365 draw odds\n",
    "18. B365A = Bet365 away win odds\n"
   ]
  },
  {
   "cell_type": "code",
   "execution_count": 29,
   "metadata": {},
   "outputs": [
    {
     "name": "stdout",
     "output_type": "stream",
     "text": [
      "<class 'pandas.core.frame.DataFrame'>\n",
      "RangeIndex: 380 entries, 0 to 379\n",
      "Data columns (total 18 columns):\n",
      " #   Column                  Non-Null Count  Dtype  \n",
      "---  ------                  --------------  -----  \n",
      " 0   Date                    380 non-null    object \n",
      " 1   Time                    380 non-null    object \n",
      " 2   HomeTeam                380 non-null    object \n",
      " 3   AwayTeam                380 non-null    object \n",
      " 4   H_Ranking_Prior_Season  380 non-null    int64  \n",
      " 5   A_Ranking_Prior_Season  380 non-null    int64  \n",
      " 6   FTHG                    380 non-null    int64  \n",
      " 7   FTAG                    380 non-null    int64  \n",
      " 8   FTR                     380 non-null    object \n",
      " 9   HTHG                    380 non-null    int64  \n",
      " 10  HTAG                    380 non-null    int64  \n",
      " 11  HTR                     380 non-null    object \n",
      " 12  HS                      380 non-null    int64  \n",
      " 13  AS                      380 non-null    int64  \n",
      " 14  Referee                 380 non-null    object \n",
      " 15  B365H                   380 non-null    float64\n",
      " 16  B365D                   380 non-null    float64\n",
      " 17  B365A                   380 non-null    float64\n",
      "dtypes: float64(3), int64(8), object(7)\n",
      "memory usage: 53.6+ KB\n"
     ]
    }
   ],
   "source": [
    "data.info()"
   ]
  },
  {
   "cell_type": "code",
   "execution_count": 30,
   "metadata": {},
   "outputs": [
    {
     "data": {
      "image/png": "[encoded data removed]",
      "text/plain": [
       "<Figure size 640x480 with 2 Axes>"
      ]
     },
     "metadata": {},
     "output_type": "display_data"
    }
   ],
   "source": [
    "crosstab = pd.crosstab(data['FTR'], data['HTR'])\n",
    "\n",
    "# Create seaborn heatmap\n",
    "sns.heatmap(crosstab, annot=True, fmt=\"d\", cmap=\"YlGnBu\")\n",
    "\n",
    "# Add labels and title\n",
    "plt.xlabel('Half-Time Result')\n",
    "plt.ylabel('Full-Time Result')\n",
    "plt.title('Crosstab Heatmap: Full-Time Result vs Half-Time Result')\n",
    "\n",
    "# Display the plot\n",
    "plt.show()"
   ]
  },
  {
   "cell_type": "code",
   "execution_count": null,
   "metadata": {},
   "outputs": [],
   "source": [
    "data = data.drop(columns = ['Date','Time','Referee','FTHG','FTAG'])"
   ]
  },
  {
   "cell_type": "markdown",
   "metadata": {},
   "source": [
    "Kodowanie danych kategorycznych"
   ]
  },
  {
   "cell_type": "code",
   "execution_count": 32,
   "metadata": {},
   "outputs": [
    {
     "name": "stderr",
     "output_type": "stream",
     "text": [
      "c:\\Users\\bruno\\anaconda3\\envs\\suml_proj\\lib\\site-packages\\sklearn\\preprocessing\\_encoders.py:972: FutureWarning: `sparse` was renamed to `sparse_output` in version 1.2 and will be removed in 1.4. `sparse_output` is ignored unless you leave `sparse` to its default value.\n",
      "  warnings.warn(\n"
     ]
    }
   ],
   "source": [
    "encoder = OneHotEncoder(sparse=False)\n",
    "\n",
    "# Fit and transform the encoder on the selected columns\n",
    "encoded_columns = encoder.fit_transform(data[['HomeTeam', 'AwayTeam', 'HTR']])\n",
    "\n",
    "# Get the feature names from the encoder\n",
    "feature_names = encoder.get_feature_names_out(input_features=['HomeTeam', 'AwayTeam', 'HTR'])\n",
    "\n",
    "# Create a DataFrame with the encoded columns\n",
    "data_encoded = pd.DataFrame(encoded_columns, columns=feature_names)\n",
    "\n",
    "# Concatenate the encoded DataFrame with the remaining columns from the original DataFrame\n",
    "data_encoded = pd.concat([data.drop(columns=['HomeTeam', 'AwayTeam', 'HTR']), data_encoded], axis=1)\n"
   ]
  },
  {
   "cell_type": "code",
   "execution_count": 33,
   "metadata": {},
   "outputs": [
    {
     "name": "stdout",
     "output_type": "stream",
     "text": [
      "<class 'pandas.core.frame.DataFrame'>\n",
      "RangeIndex: 380 entries, 0 to 379\n",
      "Data columns (total 58 columns):\n",
      " #   Column                   Non-Null Count  Dtype  \n",
      "---  ------                   --------------  -----  \n",
      " 0   Date                     380 non-null    object \n",
      " 1   Time                     380 non-null    object \n",
      " 2   H_Ranking_Prior_Season   380 non-null    int64  \n",
      " 3   A_Ranking_Prior_Season   380 non-null    int64  \n",
      " 4   FTHG                     380 non-null    int64  \n",
      " 5   FTAG                     380 non-null    int64  \n",
      " 6   FTR                      380 non-null    object \n",
      " 7   HTHG                     380 non-null    int64  \n",
      " 8   HTAG                     380 non-null    int64  \n",
      " 9   HS                       380 non-null    int64  \n",
      " 10  AS                       380 non-null    int64  \n",
      " 11  Referee                  380 non-null    object \n",
      " 12  B365H                    380 non-null    float64\n",
      " 13  B365D                    380 non-null    float64\n",
      " 14  B365A                    380 non-null    float64\n",
      " 15  HomeTeam_Arsenal         380 non-null    float64\n",
      " 16  HomeTeam_Aston Villa     380 non-null    float64\n",
      " 17  HomeTeam_Bournemouth     380 non-null    float64\n",
      " 18  HomeTeam_Brentford       380 non-null    float64\n",
      " 19  HomeTeam_Brighton        380 non-null    float64\n",
      " 20  HomeTeam_Chelsea         380 non-null    float64\n",
      " 21  HomeTeam_Crystal Palace  380 non-null    float64\n",
      " 22  HomeTeam_Everton         380 non-null    float64\n",
      " 23  HomeTeam_Fulham          380 non-null    float64\n",
      " 24  HomeTeam_Leeds           380 non-null    float64\n",
      " 25  HomeTeam_Leicester       380 non-null    float64\n",
      " 26  HomeTeam_Liverpool       380 non-null    float64\n",
      " 27  HomeTeam_Man City        380 non-null    float64\n",
      " 28  HomeTeam_Man United      380 non-null    float64\n",
      " 29  HomeTeam_Newcastle       380 non-null    float64\n",
      " 30  HomeTeam_Nott'm Forest   380 non-null    float64\n",
      " 31  HomeTeam_Southampton     380 non-null    float64\n",
      " 32  HomeTeam_Tottenham       380 non-null    float64\n",
      " 33  HomeTeam_West Ham        380 non-null    float64\n",
      " 34  HomeTeam_Wolves          380 non-null    float64\n",
      " 35  AwayTeam_Arsenal         380 non-null    float64\n",
      " 36  AwayTeam_Aston Villa     380 non-null    float64\n",
      " 37  AwayTeam_Bournemouth     380 non-null    float64\n",
      " 38  AwayTeam_Brentford       380 non-null    float64\n",
      " 39  AwayTeam_Brighton        380 non-null    float64\n",
      " 40  AwayTeam_Chelsea         380 non-null    float64\n",
      " 41  AwayTeam_Crystal Palace  380 non-null    float64\n",
      " 42  AwayTeam_Everton         380 non-null    float64\n",
      " 43  AwayTeam_Fulham          380 non-null    float64\n",
      " 44  AwayTeam_Leeds           380 non-null    float64\n",
      " 45  AwayTeam_Leicester       380 non-null    float64\n",
      " 46  AwayTeam_Liverpool       380 non-null    float64\n",
      " 47  AwayTeam_Man City        380 non-null    float64\n",
      " 48  AwayTeam_Man United      380 non-null    float64\n",
      " 49  AwayTeam_Newcastle       380 non-null    float64\n",
      " 50  AwayTeam_Nott'm Forest   380 non-null    float64\n",
      " 51  AwayTeam_Southampton     380 non-null    float64\n",
      " 52  AwayTeam_Tottenham       380 non-null    float64\n",
      " 53  AwayTeam_West Ham        380 non-null    float64\n",
      " 54  AwayTeam_Wolves          380 non-null    float64\n",
      " 55  HTR_A                    380 non-null    float64\n",
      " 56  HTR_D                    380 non-null    float64\n",
      " 57  HTR_H                    380 non-null    float64\n",
      "dtypes: float64(46), int64(8), object(4)\n",
      "memory usage: 172.3+ KB\n"
     ]
    }
   ],
   "source": [
    "data_encoded.info()"
   ]
  },
  {
   "cell_type": "code",
   "execution_count": 34,
   "metadata": {},
   "outputs": [],
   "source": [
    "data_encoded['FTR'] = data_encoded['FTR'].replace({'H': 0, 'D': 1, 'A': 2})"
   ]
  },
  {
   "cell_type": "code",
   "execution_count": 35,
   "metadata": {},
   "outputs": [],
   "source": [
    "y = data_encoded['FTR'] # target variable (winning team)\n",
    "X = data_encoded.drop(columns = ['FTR'])"
   ]
  },
  {
   "cell_type": "markdown",
   "metadata": {},
   "source": [
    "Balansowanie danych za pomoca procedury SMOTE"
   ]
  },
  {
   "cell_type": "code",
   "execution_count": 36,
   "metadata": {},
   "outputs": [],
   "source": [
    "smote = SMOTE(random_state=42)\n",
    "X_smote, y_smote = smote.fit_resample(X, y)"
   ]
  },
  {
   "cell_type": "code",
   "execution_count": 37,
   "metadata": {},
   "outputs": [],
   "source": [
    "X_train, X_test, y_train, y_test = train_test_split(X_smote, y_smote,stratify=y_smote ,test_size=0.3, random_state=0)"
   ]
  },
  {
   "cell_type": "markdown",
   "metadata": {},
   "source": [
    "Drzewo decyzyjne"
   ]
  },
  {
   "cell_type": "code",
   "execution_count": 38,
   "metadata": {},
   "outputs": [
    {
     "data": {
      "text/html": [
       "<style>#sk-container-id-2 {color: black;}#sk-container-id-2 pre{padding: 0;}#sk-container-id-2 div.sk-toggleable {background-color: white;}#sk-container-id-2 label.sk-toggleable__label {cursor: pointer;display: block;width: 100%;margin-bottom: 0;padding: 0.3em;box-sizing: border-box;text-align: center;}#sk-container-id-2 label.sk-toggleable__label-arrow:before {content: \"▸\";float: left;margin-right: 0.25em;color: #696969;}#sk-container-id-2 label.sk-toggleable__label-arrow:hover:before {color: black;}#sk-container-id-2 div.sk-estimator:hover label.sk-toggleable__label-arrow:before {color: black;}#sk-container-id-2 div.sk-toggleable__content {max-height: 0;max-width: 0;overflow: hidden;text-align: left;background-color: #f0f8ff;}#sk-container-id-2 div.sk-toggleable__content pre {margin: 0.2em;color: black;border-radius: 0.25em;background-color: #f0f8ff;}#sk-container-id-2 input.sk-toggleable__control:checked~div.sk-toggleable__content {max-height: 200px;max-width: 100%;overflow: auto;}#sk-container-id-2 input.sk-toggleable__control:checked~label.sk-toggleable__label-arrow:before {content: \"▾\";}#sk-container-id-2 div.sk-estimator input.sk-toggleable__control:checked~label.sk-toggleable__label {background-color: #d4ebff;}#sk-container-id-2 div.sk-label input.sk-toggleable__control:checked~label.sk-toggleable__label {background-color: #d4ebff;}#sk-container-id-2 input.sk-hidden--visually {border: 0;clip: rect(1px 1px 1px 1px);clip: rect(1px, 1px, 1px, 1px);height: 1px;margin: -1px;overflow: hidden;padding: 0;position: absolute;width: 1px;}#sk-container-id-2 div.sk-estimator {font-family: monospace;background-color: #f0f8ff;border: 1px dotted black;border-radius: 0.25em;box-sizing: border-box;margin-bottom: 0.5em;}#sk-container-id-2 div.sk-estimator:hover {background-color: #d4ebff;}#sk-container-id-2 div.sk-parallel-item::after {content: \"\";width: 100%;border-bottom: 1px solid gray;flex-grow: 1;}#sk-container-id-2 div.sk-label:hover label.sk-toggleable__label {background-color: #d4ebff;}#sk-container-id-2 div.sk-serial::before {content: \"\";position: absolute;border-left: 1px solid gray;box-sizing: border-box;top: 0;bottom: 0;left: 50%;z-index: 0;}#sk-container-id-2 div.sk-serial {display: flex;flex-direction: column;align-items: center;background-color: white;padding-right: 0.2em;padding-left: 0.2em;position: relative;}#sk-container-id-2 div.sk-item {position: relative;z-index: 1;}#sk-container-id-2 div.sk-parallel {display: flex;align-items: stretch;justify-content: center;background-color: white;position: relative;}#sk-container-id-2 div.sk-item::before, #sk-container-id-2 div.sk-parallel-item::before {content: \"\";position: absolute;border-left: 1px solid gray;box-sizing: border-box;top: 0;bottom: 0;left: 50%;z-index: -1;}#sk-container-id-2 div.sk-parallel-item {display: flex;flex-direction: column;z-index: 1;position: relative;background-color: white;}#sk-container-id-2 div.sk-parallel-item:first-child::after {align-self: flex-end;width: 50%;}#sk-container-id-2 div.sk-parallel-item:last-child::after {align-self: flex-start;width: 50%;}#sk-container-id-2 div.sk-parallel-item:only-child::after {width: 0;}#sk-container-id-2 div.sk-dashed-wrapped {border: 1px dashed gray;margin: 0 0.4em 0.5em 0.4em;box-sizing: border-box;padding-bottom: 0.4em;background-color: white;}#sk-container-id-2 div.sk-label label {font-family: monospace;font-weight: bold;display: inline-block;line-height: 1.2em;}#sk-container-id-2 div.sk-label-container {text-align: center;}#sk-container-id-2 div.sk-container {/* jupyter's `normalize.less` sets `[hidden] { display: none; }` but bootstrap.min.css set `[hidden] { display: none !important; }` so we also need the `!important` here to be able to override the default hidden behavior on the sphinx rendered scikit-learn.org. See: https://github.com/scikit-learn/scikit-learn/issues/21755 */display: inline-block !important;position: relative;}#sk-container-id-2 div.sk-text-repr-fallback {display: none;}</style><div id=\"sk-container-id-2\" class=\"sk-top-container\"><div class=\"sk-text-repr-fallback\"><pre>DecisionTreeClassifier(max_depth=3, min_samples_leaf=15)</pre><b>In a Jupyter environment, please rerun this cell to show the HTML representation or trust the notebook. <br />On GitHub, the HTML representation is unable to render, please try loading this page with nbviewer.org.</b></div><div class=\"sk-container\" hidden><div class=\"sk-item\"><div class=\"sk-estimator sk-toggleable\"><input class=\"sk-toggleable__control sk-hidden--visually\" id=\"sk-estimator-id-2\" type=\"checkbox\" checked><label for=\"sk-estimator-id-2\" class=\"sk-toggleable__label sk-toggleable__label-arrow\">DecisionTreeClassifier</label><div class=\"sk-toggleable__content\"><pre>DecisionTreeClassifier(max_depth=3, min_samples_leaf=15)</pre></div></div></div></div></div>"
      ],
      "text/plain": [
       "DecisionTreeClassifier(max_depth=3, min_samples_leaf=15)"
      ]
     },
     "execution_count": 38,
     "metadata": {},
     "output_type": "execute_result"
    }
   ],
   "source": [
    "tree = DecisionTreeClassifier(max_depth=3, min_samples_leaf=15)\n",
    "tree.fit(X_train,y_train)"
   ]
  },
  {
   "cell_type": "code",
   "execution_count": 39,
   "metadata": {},
   "outputs": [
    {
     "data": {
      "text/plain": [
       "[Text(0.5769230769230769, 0.875, 'x[51] <= 0.988\\ngini = 0.667\\nsamples = 386\\nvalue = [128, 129, 129]'),\n",
       " Text(0.3076923076923077, 0.625, 'x[49] <= 0.149\\ngini = 0.619\\nsamples = 281\\nvalue = [44, 115, 122]'),\n",
       " Text(0.15384615384615385, 0.375, 'x[43] <= 0.012\\ngini = 0.636\\nsamples = 145\\nvalue = [36, 69, 40]'),\n",
       " Text(0.07692307692307693, 0.125, '\\n  (...)  \\n'),\n",
       " Text(0.23076923076923078, 0.125, '\\n  (...)  \\n'),\n",
       " Text(0.46153846153846156, 0.375, 'x[8] <= 5.705\\ngini = 0.519\\nsamples = 136\\nvalue = [8, 46, 82]'),\n",
       " Text(0.38461538461538464, 0.125, '\\n  (...)  \\n'),\n",
       " Text(0.5384615384615384, 0.125, '\\n  (...)  \\n'),\n",
       " Text(0.8461538461538461, 0.625, 'x[5] <= 18.5\\ngini = 0.338\\nsamples = 105\\nvalue = [84, 14, 7]'),\n",
       " Text(0.7692307692307693, 0.375, 'x[8] <= 4.1\\ngini = 0.222\\nsamples = 90\\nvalue = [79, 6, 5]'),\n",
       " Text(0.6923076923076923, 0.125, '\\n  (...)  \\n'),\n",
       " Text(0.8461538461538461, 0.125, '\\n  (...)  \\n'),\n",
       " Text(0.9230769230769231, 0.375, 'gini = 0.587\\nsamples = 15\\nvalue = [5, 8, 2]')]"
      ]
     },
     "execution_count": 39,
     "metadata": {},
     "output_type": "execute_result"
    },
    {
     "data": {
      "image/png": "[encoded data removed]",
      "text/plain": [
       "<Figure size 640x480 with 1 Axes>"
      ]
     },
     "metadata": {},
     "output_type": "display_data"
    }
   ],
   "source": [
    "sklearn.tree.plot_tree(tree,max_depth=2)"
   ]
  },
  {
   "cell_type": "code",
   "execution_count": 40,
   "metadata": {},
   "outputs": [
    {
     "name": "stdout",
     "output_type": "stream",
     "text": [
      "Tree accuracy on train set:  0.64\n",
      "Tree accuracy on test set:  0.633\n"
     ]
    }
   ],
   "source": [
    "print('Tree accuracy on train set: ', round(tree.score(X_train,y_train),3))\n",
    "print('Tree accuracy on test set: ', round(tree.score(X_test,y_test),3))"
   ]
  },
  {
   "cell_type": "code",
   "execution_count": 41,
   "metadata": {},
   "outputs": [
    {
     "name": "stdout",
     "output_type": "stream",
     "text": [
      "Random forest accuracy on train set:  0.697\n",
      "Random Forest accuracy on test set:  0.663\n"
     ]
    }
   ],
   "source": [
    "forest = RandomForestClassifier(n_estimators=150, max_depth=4, min_samples_leaf=10)\n",
    "forest.fit(X_train,y_train)\n",
    "print('Random forest accuracy on train set: ', round(forest.score(X_train,y_train),3))\n",
    "print('Random Forest accuracy on test set: ', round(forest.score(X_test,y_test),3))\n"
   ]
  },
  {
   "cell_type": "markdown",
   "metadata": {},
   "source": [
    "Model XGBoost"
   ]
  },
  {
   "cell_type": "code",
   "execution_count": 51,
   "metadata": {},
   "outputs": [
    {
     "name": "stdout",
     "output_type": "stream",
     "text": [
      "XGBoost accuracy on train set:  0.858\n",
      "XGBoost accuracy on test set:  0.729\n"
     ]
    }
   ],
   "source": [
    "import xgboost as xgb\n",
    "from sklearn.metrics import accuracy_score\n",
    "\n",
    "# Initialize XGBoost classifier with hyperparameters\n",
    "xgb_classifier = xgb.XGBClassifier(\n",
    "    objective='multi:softmax',  # For binary classification\n",
    "    max_depth=5,                  # Maximum tree depth\n",
    "    learning_rate=0.005,            # Learning rate\n",
    "    n_estimators=100,             # Number of trees (boosting rounds)\n",
    "    subsample=0.8,                # Subsample ratio of the training instances\n",
    "    colsample_bytree=0.8,\n",
    "    reg_alpha=0.1,              # L1 regularization term\n",
    "    reg_lambda=1,             # Subsample ratio of features\n",
    "    random_state=42               # Random state for reproducibility\n",
    ")\n",
    "\n",
    "# Fit the XGBoost model to the training data\n",
    "xgb_classifier.fit(X_train, y_train)\n",
    "\n",
    "# Predictions on the training set\n",
    "train_preds = xgb_classifier.predict(X_train)\n",
    "train_accuracy = accuracy_score(y_train, train_preds)\n",
    "print('XGBoost accuracy on train set: ', round(train_accuracy, 3))\n",
    "\n",
    "# Predictions on the test set\n",
    "test_preds = xgb_classifier.predict(X_test)\n",
    "test_accuracy = accuracy_score(y_test, test_preds)\n",
    "print('XGBoost accuracy on test set: ', round(test_accuracy, 3))"
   ]
  },
  {
   "cell_type": "markdown",
   "metadata": {},
   "source": [
    "Zapisanie artefaktów"
   ]
  },
  {
   "cell_type": "code",
   "execution_count": 43,
   "metadata": {},
   "outputs": [],
   "source": [
    "with open('../model/xgboost_model.pkl', 'wb') as f:\n",
    "    pickle.dump(xgb_classifier, f)"
   ]
  },
  {
   "cell_type": "code",
   "execution_count": 44,
   "metadata": {},
   "outputs": [],
   "source": [
    "with open('../model/encoder.pkl', 'wb') as f:\n",
    "    pickle.dump(encoder, f)"
   ]
  }
 ],
 "metadata": {
  "kernelspec": {
   "display_name": "suml_proj",
   "language": "python",
   "name": "python3"
  },
  "language_info": {
   "codemirror_mode": {
    "name": "ipython",
    "version": 3
   },
   "file_extension": ".py",
   "mimetype": "text/x-python",
   "name": "python",
   "nbconvert_exporter": "python",
   "pygments_lexer": "ipython3",
   "version": "3.8.18"
  }
 },
 "nbformat": 4,
 "nbformat_minor": 2
}
